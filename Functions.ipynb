{
  "nbformat": 4,
  "nbformat_minor": 0,
  "metadata": {
    "colab": {
      "provenance": []
    },
    "kernelspec": {
      "name": "python3",
      "display_name": "Python 3"
    },
    "language_info": {
      "name": "python"
    }
  },
  "cells": [
    {
      "cell_type": "markdown",
      "source": [
        "**Q1:-What is the difference between a function and a method in Python?**\n",
        "\n",
        "**Ans:-**the difference between a function and a method comes down to how they are defined and used:\n",
        "\n",
        "**Function**\n",
        "\n",
        "A function is a block of code that performs a specific task.\n",
        "\n",
        "It is defined using the def keyword outside of a class.\n",
        "\n",
        "It can be called independently.\n",
        "\n",
        "**Method**\n",
        "\n",
        "A method is a function that is defined inside a class and is associated with an object.\n",
        "\n",
        "It automatically takes the instance (self) as its first parameter.\n",
        "\n",
        "You call a method on an object using the dot . notation\n",
        "\n",
        "**Q2:-Explain the concept of function arguments and parameters in Python?**\n",
        "\n",
        "**Ans:-**the terms parameters and arguments are closely related but not the same.\n",
        "\n",
        "**Parameters**\n",
        "Parameters are the variables listed in a function definition.\n",
        "\n",
        "They act as placeholders for the values the function expects when it is called.\n",
        "\n",
        "**Arguments**\n",
        "Arguments are the actual values passed to the function when it is called.\n",
        "\n",
        "**Q3:-What are the different ways to define and call a function in Python?**\n",
        "\n",
        "**Ans:-**defining and calling a function can be done in several structured ways. Here’s a comprehensive explanation of the different ways to define and call a function in Python from a theoretical perspective:\n",
        "\n",
        "**1. Regular Function**\n",
        "\n",
        "**Definition:**\n",
        "A function is defined using the def keyword, followed by the function name and parentheses.\n",
        "\n",
        "**Calling:**\n",
        "Call it by using its name and passing arguments.\n",
        "\n",
        "**2. Function with Default Parameters**\n",
        "\n",
        "**Definition:**\n",
        "\n",
        "Allows parameters to have default values if no argument is passed.\n",
        "\n",
        "**3. Function with Variable-Length Arguments**\n",
        "\n",
        "**Definition:**\n",
        "Used when the number of arguments is not known in advance.\n",
        "\n",
        "*args for positional arguments (tuple)\n",
        "\n",
        "**kwargs for keyword arguments (dict)\n",
        "\n",
        "**4. Lambda Function (Anonymous Function)**\n",
        "\n",
        "**Definition:**\n",
        "Used for creating small, one-line functions without a name.\n",
        "\n",
        "**5. Nested Function (Function inside another function)**\n",
        "\n",
        "**Definition:**\n",
        "A function defined within another function; helps with encapsulation.\n",
        "\n",
        "**6. Recursive Function**\n",
        "\n",
        "**Definition:**\n",
        "A function that calls itself. Used in problems like factorial, Fibonacci, etc.\n",
        "\n",
        "**7. Higher-Order Function**\n",
        "\n",
        "**Definition:**\n",
        "A function that takes another function as an argument or returns one.\n",
        "\n",
        "**8. Methods in Classes (Object-Oriented Functions)**\n",
        "\n",
        "**Definition:**\n",
        "Functions defined inside classes are called methods.\n",
        "\n",
        "**Q4:-What is the purpose of the `return` statement in a Python function?**\n",
        "\n",
        "**Ans:-**Purpose of the return Statement in a Python Function (in Python)\n",
        "The return statement in Python is used to:\n",
        "\n",
        "1. Send Data Back to the Caller\n",
        "It exits the function and sends a result (value) back to the place where the function was called.\n",
        "\n",
        "2. End Function Execution\n",
        "When Python encounters a return statement, it immediately exits the function.\n",
        "\n",
        "3. Return Multiple Values\n",
        "You can return multiple values as a tuple.\n",
        "\n",
        "4. Return Nothing (None)\n",
        "If no return is used, or it's return without a value, Python returns None\n",
        "\n",
        "**Q5:-What are iterators in Python and how do they differ from iterables?**\n",
        "\n",
        "**Ans:-**What Are Iterators and Iterables in Python?\n",
        "In Python, iterators and iterables are both used for looping, but they have different roles and behaviors.\n",
        "\n",
        " 1. Iterable\n",
        "An iterable is any Python object that can return an iterator using the built-in iter() function.\n",
        "\n",
        "🔹 Examples of iterables:\n",
        "Lists\n",
        "\n",
        "Tuples\n",
        "\n",
        "Strings\n",
        "\n",
        "Dictionaries\n",
        "\n",
        "Sets\n",
        "\n",
        " 2. Iterator\n",
        "An iterator is an object with two main characteristics:\n",
        "\n",
        "Has a __iter__() method (returns itself)\n",
        "\n",
        "Has a __next__() method (returns the next value or raises StopIteration when done)\n",
        "\n",
        "**Q6:- Explain the concept of generators in Python and how they are defined?**\n",
        "\n",
        "**Ans:-**Generators in Python (in Python)\n",
        "A generator in Python is a special type of iterator that yields values one at a time using the yield keyword instead of return.\n",
        "\n",
        "Generators are memory-efficient and ideal for large datasets or infinite sequences because they generate items on the fly instead of storing them all at once.\n",
        "\n",
        "1. Defining a Generator Function\n",
        "Instead of return, use yield:\n",
        "\n",
        "2. Using the Generator\n",
        "You can use it with a for loop or the next() function:\n",
        "\n",
        "Advantages of Generators\n",
        "🔹 Efficient memory usage (no need to store the entire sequence)\n",
        "\n",
        "🔹 Pause and resume execution\n",
        "\n",
        "🔹 Great for infinite or large datasets\n",
        "\n",
        "**Q7:-What are the advantages of using generators over regular functions?**\n",
        "\n",
        "**Ans:-**Advantages of Using Generators Over Regular Functions in Python\n",
        "Generators provide several key benefits compared to regular functions, especially when working with large data or complex pipelines.\n",
        "\n",
        "1. Memory Efficiency\n",
        "Generators do not store the entire sequence in memory.\n",
        "\n",
        "They generate items one at a time, only when needed.\n",
        "\n",
        "2. Lazy Evaluation\n",
        "Values are produced on the fly (lazy loading).\n",
        "\n",
        "Useful for infinite sequences or streaming data.\n",
        "\n",
        "🧠 Benefit:\n",
        "You can loop through millions of items without loading them all into memory.\n",
        "\n",
        "3. Improved Performance\n",
        "Faster start-up time because values are generated as needed, not all at once.\n",
        "\n",
        "Can speed up programs by avoiding unnecessary computation.\n",
        "\n",
        "4. Stateful Iteration (Pause and Resume)\n",
        "Generators maintain their state between yields.\n",
        "\n",
        "Each yield pauses the function and resumes exactly where it left off.\n",
        "\n",
        "5. Simpler Code for Iterators\n",
        "Easier and cleaner than writing a full iterator class with __iter__() and __next__().\n",
        "\n",
        "6. Infinite Sequences\n",
        "Generators make it easy to define loops that generate infinite data without crashing.\n",
        "\n",
        "**Q8:-What is a lambda function in Python and when is it typically used?**\n",
        "\n",
        "**Ans:-** Lambda Function in Python — (In Python)\n",
        "A lambda function in Python is a small, anonymous function defined using the lambda keyword instead of def.\n",
        "\n",
        "Syntax of Lambda Function\n",
        "\n",
        "It can have any number of arguments, but only one expression.\n",
        "\n",
        "The result of the expression is automatically returned.\n",
        "\n",
        "**Lambda Typically Used**\n",
        "Lambda functions are usually used:\n",
        "\n",
        "🔸 1. When a small function is needed temporarily\n",
        "Especially in places where a full def function is unnecessary.\n",
        "\n",
        "🔸 2. With Built-in Functions like:\n",
        "map() – Apply a function to every item in an iterable\n",
        "\n",
        "filter() – Filter items based on a condition\n",
        "\n",
        "sorted() – Sort based on a custom key\n",
        "\n",
        "reduce() – Cumulative operation on a list (from functools)\n",
        "\n",
        "**Limitations of Lambda**\n",
        "\n",
        "Only one expression allowed (no statements like if, for, while, etc.)\n",
        "\n",
        "Cannot contain multiple lines or complex logic.\n",
        "\n",
        "Harder to read/debug if overused.\n",
        "\n",
        "**Q9:- Explain the purpose and usage of the `map()` function in Python?**\n",
        "\n",
        "**Ans:-** map() Function in Python — (In Python)\n",
        "The map() function in Python is used to apply a function to each item in an iterable (like a list, tuple, etc.) and returns a new iterator with the transformed items.\n",
        "\n",
        "**Purpose of map()**\n",
        "To transform or process data in a collection without using a loop.\n",
        "\n",
        "**Syntax**\n",
        "\n",
        "function: A function to apply (can be a named function or lambda)\n",
        "\n",
        "iterable: One or more iterables to pass to the function\n",
        "\n",
        "**Q10:-What is the difference between `map()`, `reduce()`, and `filter()` functions in Python?**\n",
        "\n",
        "**Ans:-**Difference Between map(), reduce(), and filter() Functions in Python\n",
        "These three are functional programming tools in Python used for processing iterables, but they serve different purposes:\n",
        "\n",
        "1. map()\n",
        "Purpose: Applies a given function to each item of an iterable and returns an iterator of the results.\n",
        "\n",
        "Input: Function + iterable(s)\n",
        "\n",
        "Output: Iterator of transformed items\n",
        "\n",
        "2. filter()\n",
        "Purpose: Filters items in an iterable by applying a function that returns True or False.\n",
        "\n",
        "Keeps only the items where the function returns True.\n",
        "\n",
        "Input: Function (returns boolean) + iterable\n",
        "\n",
        "Output: Iterator of filtered items\n",
        "\n",
        "3. reduce() (from functools module)\n",
        "Purpose: Applies a function cumulatively to the items of an iterable, reducing it to a single value.\n",
        "\n",
        "Not a built-in function directly; you must import it:\n",
        "\n",
        "Input: Function (takes two arguments) + iterable\n",
        "\n",
        "Output: Single value (result of cumulative operation)\n",
        "\n"
      ],
      "metadata": {
        "id": "gieM0_X93r9h"
      }
    },
    {
      "cell_type": "code",
      "execution_count": 1,
      "metadata": {
        "colab": {
          "base_uri": "https://localhost:8080/"
        },
        "id": "9EIi9g7-2-CE",
        "outputId": "5db509c2-1fc2-44e5-defd-c21c93950eed"
      },
      "outputs": [
        {
          "output_type": "execute_result",
          "data": {
            "text/plain": [
              "113"
            ]
          },
          "metadata": {},
          "execution_count": 1
        }
      ],
      "source": [
        "#Q11:-Using pen & Paper write the internal mechanism for sum operation using reduce function on this given list:[47,11,42,13];\n",
        "\n",
        "from functools import reduce\n",
        "l=[47,11,42,13]\n",
        "reduce(lambda x,y:x+y,l)"
      ]
    },
    {
      "cell_type": "code",
      "source": [
        "#Q1:-Write a Python function that takes a list of numbers as input and returns the sum of all even numbers in the list.\n",
        "def sum_even_numbers(numbers):\n",
        "    total = 0\n",
        "    for num in numbers:\n",
        "        if num % 2 == 0:\n",
        "            total += num\n",
        "    return total"
      ],
      "metadata": {
        "id": "JpPT_TVUASyb"
      },
      "execution_count": 2,
      "outputs": []
    },
    {
      "cell_type": "code",
      "source": [
        "#Q2:-Create a Python function that accepts a string and returns the reverse of that string.\n",
        "def reverse_string(s):\n",
        "    return s[::-1]\n",
        "    input_str = \"Hello, World!\"\n",
        "    reversed_str = reverse_string(input_str)\n",
        "    print(reversed_str)"
      ],
      "metadata": {
        "id": "pDskU4kWBB_y"
      },
      "execution_count": 3,
      "outputs": []
    },
    {
      "cell_type": "code",
      "source": [
        "print(reverse_string(\"hello\"))"
      ],
      "metadata": {
        "colab": {
          "base_uri": "https://localhost:8080/"
        },
        "id": "2mpE2NZoB6m1",
        "outputId": "4c9e2648-59b2-4750-ed00-054343752be7"
      },
      "execution_count": 4,
      "outputs": [
        {
          "output_type": "stream",
          "name": "stdout",
          "text": [
            "olleh\n"
          ]
        }
      ]
    },
    {
      "cell_type": "code",
      "source": [
        "#Q3:-Implement a Python function that takes a list of integers and returns a new list containing the squares of each number.\n",
        "def square_list(numbers):\n",
        "    return [x ** 2 for x in numbers]\n",
        "\n",
        "nums = [1, 2, 3, 4]\n",
        "print(square_list(nums))"
      ],
      "metadata": {
        "colab": {
          "base_uri": "https://localhost:8080/"
        },
        "id": "7al1cpoYBGuV",
        "outputId": "8e6acf1a-713c-4b6a-8d3d-6b4e0cf0c438"
      },
      "execution_count": 5,
      "outputs": [
        {
          "output_type": "stream",
          "name": "stdout",
          "text": [
            "[1, 4, 9, 16]\n"
          ]
        }
      ]
    },
    {
      "cell_type": "code",
      "source": [
        "#Q4:-Write a Python function that checks if a given number is prime or not from 1 to 200?\n",
        "def is_prime(n):\n",
        "    if n <= 1:\n",
        "        return False\n",
        "    if n <= 3:\n",
        "        return True\n",
        "    if n % 2 == 0 or n % 3 == 0:\n",
        "        return False\n",
        "    i = 5\n",
        "    while i * i <= n:\n",
        "        if n % i == 0 or n % (i + 2) == 0:\n",
        "            return False\n",
        "        i += 6\n",
        "    return True\n",
        "\n",
        "# Print prime numbers from 1 to 200\n",
        "for number in range(1, 201):\n",
        "    if is_prime(number):\n",
        "        print(number, end=' ')"
      ],
      "metadata": {
        "colab": {
          "base_uri": "https://localhost:8080/"
        },
        "id": "H0WPBe8gBzkG",
        "outputId": "8d4a62ab-81b6-47a8-bc75-e33d50177dc0"
      },
      "execution_count": 6,
      "outputs": [
        {
          "output_type": "stream",
          "name": "stdout",
          "text": [
            "2 3 5 7 11 13 17 19 23 29 31 37 41 43 47 53 59 61 67 71 73 79 83 89 97 101 103 107 109 113 127 131 137 139 149 151 157 163 167 173 179 181 191 193 197 199 "
          ]
        }
      ]
    },
    {
      "cell_type": "code",
      "source": [
        "#Q5:-Create an iterator class in Python that generates the Fibonacci sequence up to a specified number of terms.\n",
        "class FibonacciIterator:\n",
        "    def __init__(self, terms):\n",
        "        self.terms = terms  # Total terms to generate\n",
        "        self.index = 0      # Current index\n",
        "        self.a, self.b = 0, 1  # Starting values of Fibonacci\n",
        "\n",
        "    def __iter__(self):\n",
        "        return self\n",
        "\n",
        "    def __next__(self):\n",
        "        if self.index >= self.terms:\n",
        "            raise StopIteration\n",
        "        if self.index == 0:\n",
        "            self.index += 1\n",
        "            return 0\n",
        "        elif self.index == 1:\n",
        "            self.index += 1\n",
        "            return 1\n",
        "        else:\n",
        "            self.a, self.b = self.b, self.a + self.b\n",
        "            self.index += 1\n",
        "            return self.a\n",
        "\n",
        "fib_iter = FibonacciIterator(10)\n",
        "for num in fib_iter:\n",
        "    print(num, end=' ')"
      ],
      "metadata": {
        "colab": {
          "base_uri": "https://localhost:8080/"
        },
        "id": "5NF3zxdFCO7b",
        "outputId": "425bf410-d7a6-4809-aa5d-1b3df936ac22"
      },
      "execution_count": 7,
      "outputs": [
        {
          "output_type": "stream",
          "name": "stdout",
          "text": [
            "0 1 1 1 2 3 5 8 13 21 "
          ]
        }
      ]
    },
    {
      "cell_type": "code",
      "source": [
        "#Q6:-Write a generator function in Python that yields the powers of 2 up to a given exponent.\n",
        "def powers_of_two(n):\n",
        "    for i in range(n + 1):\n",
        "        yield 2 ** i\n",
        "\n",
        "for power in powers_of_two(5):\n",
        "    print(power, end=' ')"
      ],
      "metadata": {
        "colab": {
          "base_uri": "https://localhost:8080/"
        },
        "id": "cAg0XpyaCeXy",
        "outputId": "e90ca084-6bac-4bf8-da8b-3d006bc78eab"
      },
      "execution_count": 8,
      "outputs": [
        {
          "output_type": "stream",
          "name": "stdout",
          "text": [
            "1 2 4 8 16 32 "
          ]
        }
      ]
    },
    {
      "cell_type": "code",
      "source": [
        "#Q7:-. Implement a generator function that reads a file line by line and yields each line as a string?\n",
        "\n",
        "# Create a dummy file for testing\n",
        "with open('example.txt', 'w') as f:\n",
        "    f.write(\"This is the first line.\\n\")\n",
        "    f.write(\"This is the second line.\\n\")\n",
        "    f.write(\"And this is the third line.\")\n",
        "\n",
        "# Now, the original code to read the file should work\n",
        "def read_file_lines(file_path):\n",
        "    with open(file_path, 'r') as file:\n",
        "        for line in file:\n",
        "            yield line\n",
        "\n",
        "# Example usage:\n",
        "file_path = 'example.txt'\n",
        "for line in read_file_lines(file_path):\n",
        "    print(line, end='')\n"
      ],
      "metadata": {
        "colab": {
          "base_uri": "https://localhost:8080/"
        },
        "id": "vtQMe8mEDAST",
        "outputId": "af730534-314f-44ae-bf4a-1041b62a3fe8"
      },
      "execution_count": 9,
      "outputs": [
        {
          "output_type": "stream",
          "name": "stdout",
          "text": [
            "This is the first line.\n",
            "This is the second line.\n",
            "And this is the third line."
          ]
        }
      ]
    },
    {
      "cell_type": "code",
      "source": [
        "#Q8:-Use a lambda function in Python to sort a list of tuples based on the second element of each tuple.\n",
        "data = [(1, 3), (4, 1), (5, 2)]\n",
        "sorted_data = sorted(data, key=lambda x: x[1])\n",
        "print(sorted_data)"
      ],
      "metadata": {
        "colab": {
          "base_uri": "https://localhost:8080/"
        },
        "id": "zexCw-x-DWXq",
        "outputId": "d1403056-7876-43ba-dd8f-060daaedb146"
      },
      "execution_count": 10,
      "outputs": [
        {
          "output_type": "stream",
          "name": "stdout",
          "text": [
            "[(4, 1), (5, 2), (1, 3)]\n"
          ]
        }
      ]
    },
    {
      "cell_type": "code",
      "source": [
        "#Q9:-Write a Python program that uses `map()` to convert a list of temperatures from Celsius to Fahrenheit.\n",
        "def celsius_to_fahrenheit(c):\n",
        "    return (c * 9/5) + 32\n",
        "\n",
        "celsius_temps = [0, 20, 37, 100]\n",
        "fahrenheit_temps = list(map(celsius_to_fahrenheit, celsius_temps))\n",
        "\n",
        "print(fahrenheit_temps)"
      ],
      "metadata": {
        "colab": {
          "base_uri": "https://localhost:8080/"
        },
        "id": "3BHCBieMEFIV",
        "outputId": "45fbc1ac-a0d9-4398-db42-0aad9bf63325"
      },
      "execution_count": 11,
      "outputs": [
        {
          "output_type": "stream",
          "name": "stdout",
          "text": [
            "[32.0, 68.0, 98.6, 212.0]\n"
          ]
        }
      ]
    },
    {
      "cell_type": "code",
      "source": [
        "#Q10:-. Create a Python program that uses `filter()` to remove all the vowels from a given string.\n",
        "def remove_vowels(s):\n",
        "    vowels = \"aeiouAEIOU\"\n",
        "    return ''.join(filter(lambda char: char not in vowels, s))\n",
        "\n",
        "# Example usage\n",
        "input_str = \"Hello, World!\"\n",
        "result = remove_vowels(input_str)\n",
        "print(result)"
      ],
      "metadata": {
        "colab": {
          "base_uri": "https://localhost:8080/"
        },
        "id": "uLxxlsu9ETu1",
        "outputId": "e21f2a45-389a-4a85-f8f0-25388f8a7bc3"
      },
      "execution_count": 12,
      "outputs": [
        {
          "output_type": "stream",
          "name": "stdout",
          "text": [
            "Hll, Wrld!\n"
          ]
        }
      ]
    },
    {
      "cell_type": "code",
      "source": [
        "#Q11:-\n",
        "book_data = [\n",
        "    [34587,\"Learning Python\", \"Mark Lutz\", 4, 40.95],\n",
        "    [98762, \"Programming Python\", \"Mark Lutz\", 5, 56, 80],\n",
        "    [77226, \"Head First Python\", \"Paul Barry\", 3, 32.95],\n",
        "    [88112, \"Einführung in Python3\", \"Bernd Klein\", 3, 24.99],\n",
        "]\n",
        "\n",
        "result = list(map(lambda item:(item[0], item[3] * item[4] + 10 if item[3] * item[4] < 100 else item[3] * item[4]), book_data))\n",
        "print(result)\n"
      ],
      "metadata": {
        "colab": {
          "base_uri": "https://localhost:8080/"
        },
        "id": "hga7PiJZEf6_",
        "outputId": "833c238c-ef07-47d3-813e-69eb8ca4fd87"
      },
      "execution_count": 13,
      "outputs": [
        {
          "output_type": "stream",
          "name": "stdout",
          "text": [
            "[(34587, 163.8), (98762, 280), (77226, 108.85000000000001), (88112, 84.97)]\n"
          ]
        }
      ]
    },
    {
      "cell_type": "code",
      "source": [],
      "metadata": {
        "id": "S1HTTWjoHvZl"
      },
      "execution_count": null,
      "outputs": []
    }
  ]
}